{
 "cells": [
  {
   "cell_type": "markdown",
   "metadata": {},
   "source": [
    "# Classification Intro with K Nearest Neighbors , p13"
   ]
  },
  {
   "cell_type": "markdown",
   "metadata": {},
   "source": [
    "# Applying K Nearest Neighbors to Data , p14"
   ]
  },
  {
   "cell_type": "markdown",
   "metadata": {},
   "source": [
    "To exemplify classification, we're going to use a Breast Cancer Dataset, which is a dataset donated to the University of California, Irvine (UCI) collection from the University of Wisconsin-Madison. UCI has a large Machine Learning Repository. The datasets here are organized by types of machine learning often used for them, data types, attribute types, topic areas, and a few others."
   ]
  },
  {
   "cell_type": "code",
   "execution_count": null,
   "metadata": {},
   "outputs": [],
   "source": []
  },
  {
   "cell_type": "code",
   "execution_count": 82,
   "metadata": {},
   "outputs": [],
   "source": [
    "import numpy as np\n",
    "from sklearn import preprocessing, cross_validation, neighbors\n",
    "import pandas as pd\n",
    "#import numpy.ndarray as npn"
   ]
  },
  {
   "cell_type": "code",
   "execution_count": 24,
   "metadata": {
    "scrolled": true
   },
   "outputs": [],
   "source": [
    "df=pd.read_csv('breast-cancer-wisconsin.txt',error_bad_lines=False)\n",
    "df.replace('?',-9999, inplace=True) # bad data make seperting from other data\n",
    "df.drop(['id'],1,inplace=True) # remove id, beacuse we want to decreses volume of datas and we dont need a id."
   ]
  },
  {
   "cell_type": "code",
   "execution_count": 32,
   "metadata": {},
   "outputs": [],
   "source": [
    "# now, describe x for features and y for label ... \n",
    "x = np.array(df.drop(['class'],1)) #freatures\n",
    "y = np.array(df['class']) #lebal\n",
    "\n",
    "x_train,x_test,y_train,y_test = cross_validation.train_test_split(x,y,test_size=0.20)"
   ]
  },
  {
   "cell_type": "code",
   "execution_count": 34,
   "metadata": {},
   "outputs": [
    {
     "name": "stdout",
     "output_type": "stream",
     "text": [
      "0.992857142857\n"
     ]
    }
   ],
   "source": [
    "# Select and describe the machine learing ...\n",
    "clf = neighbors.KNeighborsClassifier( )  # 1. Select mdoel\n",
    "\n",
    "clf.fit(x_train, y_train)   # 2. fit data\n",
    "\n",
    "accuracy = clf.score(x_test, y_test) # 3. calculate accuracy \n",
    "print(accuracy) # accurac < .95 isn't good"
   ]
  },
  {
   "cell_type": "code",
   "execution_count": null,
   "metadata": {},
   "outputs": [],
   "source": [
    "# if use id columan of data , the accuracy decrese a lot, so it is better that we don't use id\n"
   ]
  },
  {
   "cell_type": "code",
   "execution_count": 46,
   "metadata": {},
   "outputs": [
    {
     "name": "stdout",
     "output_type": "stream",
     "text": [
      "[2]\n"
     ]
    }
   ],
   "source": [
    "example_measure = np.array([4,2,2,3,1,1,1,1,9])\n",
    "\n",
    "example_measure = example_measure.reshape(1,-1) # I don't understand it\n",
    "\n",
    "perdication = clf.predict(example_measure)\n",
    "print(perdication)"
   ]
  },
  {
   "cell_type": "code",
   "execution_count": 57,
   "metadata": {},
   "outputs": [
    {
     "name": "stdout",
     "output_type": "stream",
     "text": [
      "[4 2]\n"
     ]
    }
   ],
   "source": [
    "example_measure = np.array([[40,2,2,3,100,100,1,1,9],[5,1,1,1,2,1,3,1,1]])\n",
    "\n",
    "example_measure = example_measure.reshape(2,-1) # I don't understand it\n",
    "\n",
    "perdication = clf.predict(example_measure)\n",
    "print(perdication)"
   ]
  },
  {
   "cell_type": "code",
   "execution_count": 48,
   "metadata": {},
   "outputs": [],
   "source": [
    "#help(example_measure.reshape(1,-1))"
   ]
  },
  {
   "cell_type": "code",
   "execution_count": 58,
   "metadata": {},
   "outputs": [],
   "source": [
    "#df.head(12)"
   ]
  },
  {
   "cell_type": "code",
   "execution_count": null,
   "metadata": {},
   "outputs": [],
   "source": []
  },
  {
   "cell_type": "code",
   "execution_count": null,
   "metadata": {},
   "outputs": [],
   "source": []
  },
  {
   "cell_type": "markdown",
   "metadata": {},
   "source": [
    "# Euclidean Distance theory, p15"
   ]
  },
  {
   "cell_type": "code",
   "execution_count": 59,
   "metadata": {},
   "outputs": [
    {
     "data": {
      "image/png": "[encoded data removed]",
      "text/plain": [
       "<IPython.core.display.Image object>"
      ]
     },
     "execution_count": 59,
     "metadata": {
      "image/png": {
       "height": 340,
       "width": 340
      }
     },
     "output_type": "execute_result"
    }
   ],
   "source": [
    "from IPython.display import Image\n",
    "Image(filename='3.png', width=340,height=340)"
   ]
  },
  {
   "cell_type": "markdown",
   "metadata": {},
   "source": [
    "# Creating a K Nearest Neighbors Classifer from scratch, p16, p17"
   ]
  },
  {
   "cell_type": "code",
   "execution_count": 83,
   "metadata": {},
   "outputs": [],
   "source": [
    "import numpy as np\n",
    "from math  import sqrt\n",
    "import matplotlib.pyplot as plt\n",
    "from matplotlib import style\n",
    "\n",
    "from collections import Counter\n",
    "import warnings   # it warn user when use dumb number for k\n",
    "\n",
    "%matplotlib inline\n",
    "style.use('fivethirtyeight')"
   ]
  },
  {
   "cell_type": "code",
   "execution_count": 75,
   "metadata": {},
   "outputs": [
    {
     "data": {
      "image/png": "[encoded data removed]",
      "text/plain": [
       "<matplotlib.figure.Figure at 0x1188aa7b8>"
      ]
     },
     "metadata": {},
     "output_type": "display_data"
    }
   ],
   "source": [
    "\n",
    "dataset = {'k':[[1,2],[2,3],[3,1]], 'r':[[6,5],[7,7],[8,6]]} \n",
    "# we have two class here with three feature for each of them\n",
    "\n",
    "new_features = [5,7] # we use machine learing and see this new point belongs to each gruops, k or r... \n",
    "\n",
    "[[plt.scatter(j[0],j[1], s=100 ,color=i) for j in dataset[i]] for i in dataset]\n",
    "\n",
    "plt.scatter(new_features[0],new_features[1], s=100 , color='g')  \n",
    "plt.show()"
   ]
  },
  {
   "cell_type": "code",
   "execution_count": 76,
   "metadata": {},
   "outputs": [
    {
     "name": "stdout",
     "output_type": "stream",
     "text": [
      "r\n"
     ]
    }
   ],
   "source": [
    "def K_NEARST_NEIGHBORS(data, predict, k=3):\n",
    "    if len(data) >= k:\n",
    "        warnings.warn('K is set to a value less than total voting groups!')\n",
    "        \n",
    "    distances = []\n",
    "    for group in data:\n",
    "        for features in data[group]:\n",
    "            euclidean_distance = np.linalg.norm(np.array(features)-np.array(predict))\n",
    "            distances.append([euclidean_distance,group])\n",
    "\n",
    "    votes = [i[1] for i in sorted(distances)[:k]]\n",
    "    vote_result = Counter(votes).most_common(1)[0][0]\n",
    "    return vote_result\n",
    "\n",
    "\n",
    "result = K_NEARST_NEIGHBORS(dataset, new_features)\n",
    "print(result)"
   ]
  },
  {
   "cell_type": "code",
   "execution_count": 78,
   "metadata": {},
   "outputs": [
    {
     "data": {
      "image/png": "[encoded data removed]",
      "text/plain": [
       "<matplotlib.figure.Figure at 0x117e08f28>"
      ]
     },
     "metadata": {},
     "output_type": "display_data"
    }
   ],
   "source": [
    "plt.scatter(new_features[0], new_features[1], s=100)\n",
    "\n",
    "result = K_NEARST_NEIGHBORS(dataset, new_features)\n",
    "plt.scatter(new_features[0], new_features[1], s=100, color = result)  \n",
    "plt.show()"
   ]
  },
  {
   "cell_type": "code",
   "execution_count": null,
   "metadata": {},
   "outputs": [],
   "source": []
  },
  {
   "cell_type": "markdown",
   "metadata": {},
   "source": [
    "# >>> Testing our K Nearest Neighbors classifier, p18"
   ]
  },
  {
   "cell_type": "code",
   "execution_count": null,
   "metadata": {},
   "outputs": [],
   "source": []
  },
  {
   "cell_type": "code",
   "execution_count": 79,
   "metadata": {},
   "outputs": [],
   "source": [
    "import random"
   ]
  },
  {
   "cell_type": "code",
   "execution_count": 96,
   "metadata": {},
   "outputs": [
    {
     "name": "stdout",
     "output_type": "stream",
     "text": [
      "[[1.0, 2.0, 3.0, 1.0, 2.0, 1.0, 3.0, 1.0, 1.0, 2.0], [4.0, 1.0, 1.0, 1.0, 3.0, 1.0, 1.0, 1.0, 1.0, 2.0], [1.0, 1.0, 1.0, 1.0, 4.0, 3.0, 1.0, 1.0, 1.0, 2.0], [1.0, 1.0, 1.0, 1.0, 2.0, 1.0, 2.0, 1.0, 1.0, 2.0], [3.0, 1.0, 4.0, 1.0, 2.0, 1.0, 1.0, 1.0, 1.0, 2.0], [3.0, 1.0, 1.0, 1.0, 2.0, 1.0, 2.0, 1.0, 1.0, 2.0], [1.0, 1.0, 3.0, 1.0, 2.0, 1.0, 2.0, 1.0, 1.0, 2.0], [5.0, 1.0, 1.0, 6.0, 3.0, 1.0, 1.0, 1.0, 1.0, 2.0], [5.0, 1.0, 2.0, 1.0, 2.0, 1.0, 1.0, 1.0, 1.0, 2.0], [1.0, 1.0, 1.0, 1.0, 2.0, 1.0, 2.0, 1.0, 1.0, 2.0], [4.0, 1.0, 1.0, 1.0, 2.0, 1.0, 2.0, 1.0, 1.0, 2.0], [2.0, 1.0, 1.0, 1.0, 3.0, 1.0, 2.0, 1.0, 1.0, 2.0], [5.0, 1.0, 2.0, 1.0, 2.0, 1.0, 1.0, 1.0, 1.0, 2.0], [1.0, 1.0, 1.0, 1.0, 2.0, 1.0, 2.0, 1.0, 1.0, 2.0], [2.0, 3.0, 1.0, 1.0, 5.0, 1.0, 1.0, 1.0, 1.0, 2.0], [1.0, 1.0, 4.0, 1.0, 2.0, 1.0, 2.0, 1.0, 1.0, 2.0], [5.0, 1.0, 3.0, 1.0, 2.0, 1.0, 2.0, 1.0, 1.0, 2.0], [3.0, 1.0, 1.0, 1.0, 2.0, 1.0, 2.0, 1.0, 1.0, 2.0], [5.0, 7.0, 4.0, 1.0, 6.0, 1.0, 7.0, 10.0, 3.0, 4.0], [3.0, 1.0, 1.0, 1.0, 2.0, 1.0, 1.0, 1.0, 1.0, 2.0], [8.0, 9.0, 9.0, 5.0, 3.0, 5.0, 7.0, 7.0, 1.0, 4.0], [5.0, 1.0, 1.0, 1.0, 2.0, 2.0, 2.0, 1.0, 1.0, 2.0], [8.0, 8.0, 8.0, 1.0, 2.0, -9999.0, 6.0, 10.0, 1.0, 4.0], [3.0, 1.0, 1.0, 1.0, 3.0, 1.0, 2.0, 1.0, 1.0, 2.0], [5.0, 7.0, 7.0, 1.0, 5.0, 8.0, 3.0, 4.0, 1.0, 2.0], [5.0, 4.0, 6.0, 7.0, 9.0, 7.0, 8.0, 10.0, 1.0, 4.0], [2.0, 1.0, 1.0, 1.0, 2.0, 1.0, 2.0, 1.0, 1.0, 2.0], [5.0, 1.0, 1.0, 1.0, 2.0, 1.0, 2.0, 1.0, 1.0, 2.0], [5.0, 1.0, 1.0, 1.0, 2.0, 1.0, 1.0, 1.0, 1.0, 2.0], [1.0, 1.0, 1.0, 1.0, 2.0, 1.0, 3.0, 1.0, 1.0, 2.0], [5.0, 1.0, 1.0, 1.0, 2.0, 1.0, 2.0, 1.0, 1.0, 2.0], [4.0, 4.0, 2.0, 1.0, 2.0, 5.0, 2.0, 1.0, 2.0, 2.0], [8.0, 8.0, 9.0, 4.0, 5.0, 10.0, 7.0, 8.0, 1.0, 4.0], [3.0, 3.0, 2.0, 1.0, 2.0, 3.0, 3.0, 1.0, 1.0, 2.0], [5.0, 1.0, 1.0, 2.0, 2.0, 2.0, 3.0, 1.0, 1.0, 2.0], [1.0, 1.0, 1.0, 1.0, 2.0, 1.0, 1.0, 1.0, 1.0, 2.0], [9.0, 8.0, 8.0, 9.0, 6.0, 3.0, 4.0, 1.0, 1.0, 4.0], [3.0, 1.0, 1.0, 1.0, 2.0, 1.0, 2.0, 1.0, 1.0, 2.0], [1.0, 1.0, 1.0, 1.0, 2.0, 1.0, 1.0, 1.0, 1.0, 2.0], [3.0, 7.0, 7.0, 4.0, 4.0, 9.0, 4.0, 8.0, 1.0, 4.0], [1.0, 1.0, 1.0, 1.0, 2.0, 3.0, 3.0, 1.0, 1.0, 2.0], [1.0, 1.0, 1.0, 1.0, 2.0, 1.0, 2.0, 1.0, 1.0, 2.0], [3.0, 1.0, 1.0, 1.0, 2.0, 2.0, 7.0, 1.0, 1.0, 2.0], [3.0, 1.0, 1.0, 1.0, 2.0, 1.0, 2.0, 1.0, 1.0, 2.0], [5.0, 1.0, 1.0, 1.0, 2.0, -9999.0, 3.0, 1.0, 1.0, 2.0], [3.0, 1.0, 1.0, 1.0, 1.0, 1.0, 2.0, 1.0, 1.0, 2.0], [1.0, 1.0, 1.0, 1.0, 2.0, 1.0, 1.0, 1.0, 1.0, 2.0], [3.0, 1.0, 1.0, 1.0, 1.0, 1.0, 1.0, 1.0, 1.0, 2.0], [5.0, 2.0, 1.0, 1.0, 2.0, 1.0, 3.0, 1.0, 1.0, 2.0], [1.0, 1.0, 1.0, 3.0, 2.0, 1.0, 1.0, 1.0, 1.0, 2.0], [10.0, 8.0, 4.0, 4.0, 4.0, 10.0, 3.0, 10.0, 4.0, 4.0], [10.0, 3.0, 6.0, 2.0, 3.0, 5.0, 4.0, 10.0, 2.0, 4.0], [3.0, 2.0, 1.0, 1.0, 1.0, 1.0, 2.0, 1.0, 1.0, 2.0], [10.0, 6.0, 4.0, 1.0, 3.0, 4.0, 3.0, 2.0, 3.0, 4.0], [6.0, 8.0, 7.0, 5.0, 6.0, 8.0, 8.0, 9.0, 2.0, 4.0], [1.0, 1.0, 1.0, 1.0, 2.0, 2.0, 2.0, 1.0, 1.0, 2.0], [5.0, 6.0, 6.0, 2.0, 4.0, 10.0, 3.0, 6.0, 1.0, 4.0], [6.0, 1.0, 1.0, 1.0, 2.0, 1.0, 3.0, 1.0, 1.0, 2.0], [3.0, 1.0, 1.0, 1.0, 2.0, 1.0, 3.0, 1.0, 1.0, 2.0], [3.0, 1.0, 1.0, 1.0, 2.0, 1.0, 1.0, 1.0, 1.0, 2.0], [3.0, 1.0, 1.0, 1.0, 2.0, 1.0, 3.0, 1.0, 1.0, 2.0], [8.0, 6.0, 5.0, 4.0, 3.0, 10.0, 6.0, 1.0, 1.0, 4.0], [6.0, 1.0, 1.0, 1.0, 1.0, 1.0, 1.0, 1.0, 1.0, 2.0], [5.0, 10.0, 8.0, 10.0, 8.0, 10.0, 3.0, 6.0, 3.0, 4.0], [6.0, 1.0, 1.0, 3.0, 2.0, 1.0, 1.0, 1.0, 1.0, 2.0], [10.0, 10.0, 10.0, 8.0, 6.0, 1.0, 8.0, 9.0, 1.0, 4.0], [3.0, 1.0, 1.0, 1.0, 2.0, 1.0, 3.0, 1.0, 1.0, 2.0], [6.0, 6.0, 6.0, 9.0, 6.0, -9999.0, 7.0, 8.0, 1.0, 2.0], [1.0, 1.0, 1.0, 1.0, 2.0, 5.0, 1.0, 1.0, 1.0, 2.0], [1.0, 1.0, 1.0, 1.0, 1.0, 1.0, 1.0, 3.0, 1.0, 2.0], [3.0, 3.0, 1.0, 1.0, 2.0, 1.0, 1.0, 1.0, 1.0, 2.0], [1.0, 1.0, 1.0, 1.0, 1.0, -9999.0, 2.0, 1.0, 1.0, 2.0], [8.0, 3.0, 4.0, 9.0, 3.0, 10.0, 3.0, 3.0, 1.0, 4.0], [5.0, 4.0, 6.0, 10.0, 2.0, 10.0, 4.0, 1.0, 1.0, 4.0], [4.0, 1.0, 1.0, 3.0, 2.0, 1.0, 3.0, 1.0, 1.0, 2.0], [1.0, 1.0, 1.0, 1.0, 2.0, 1.0, 1.0, 1.0, 1.0, 2.0], [8.0, 8.0, 7.0, 4.0, 10.0, 10.0, 7.0, 8.0, 7.0, 4.0], [5.0, 1.0, 3.0, 1.0, 2.0, 1.0, 1.0, 1.0, 1.0, 2.0], [4.0, 1.0, 3.0, 3.0, 2.0, 1.0, 1.0, 1.0, 1.0, 2.0], [2.0, 1.0, 1.0, 1.0, 2.0, 5.0, 1.0, 1.0, 1.0, 2.0], [3.0, 1.0, 1.0, 1.0, 2.0, 1.0, 2.0, 3.0, 1.0, 2.0], [1.0, 1.0, 1.0, 1.0, 2.0, 5.0, 5.0, 1.0, 1.0, 2.0], [5.0, 1.0, 3.0, 1.0, 2.0, 1.0, 2.0, 1.0, 1.0, 2.0], [10.0, 5.0, 5.0, 3.0, 6.0, 7.0, 7.0, 10.0, 1.0, 4.0], [2.0, 1.0, 2.0, 1.0, 2.0, 1.0, 3.0, 1.0, 1.0, 2.0], [5.0, 1.0, 1.0, 1.0, 3.0, 2.0, 2.0, 2.0, 1.0, 2.0], [4.0, 1.0, 1.0, 1.0, 2.0, 1.0, 2.0, 1.0, 1.0, 2.0], [5.0, 1.0, 1.0, 1.0, 2.0, 1.0, 3.0, 1.0, 2.0, 2.0], [4.0, 1.0, 1.0, 1.0, 2.0, 1.0, 2.0, 1.0, 1.0, 2.0], [1.0, 1.0, 1.0, 1.0, 2.0, 1.0, 1.0, 1.0, 8.0, 2.0], [5.0, 1.0, 3.0, 1.0, 2.0, 1.0, 2.0, 1.0, 1.0, 2.0], [2.0, 1.0, 1.0, 1.0, 2.0, 1.0, 1.0, 1.0, 1.0, 2.0], [1.0, 1.0, 1.0, 1.0, 2.0, 1.0, 3.0, 2.0, 1.0, 2.0], [2.0, 3.0, 1.0, 1.0, 3.0, 1.0, 1.0, 1.0, 1.0, 2.0], [1.0, 1.0, 1.0, 1.0, 2.0, 1.0, 3.0, 1.0, 1.0, 2.0], [5.0, 1.0, 1.0, 1.0, 1.0, 1.0, 3.0, 1.0, 1.0, 2.0], [5.0, 1.0, 1.0, 1.0, 2.0, 1.0, 1.0, 1.0, 1.0, 2.0], [4.0, 1.0, 1.0, 1.0, 2.0, 1.0, 3.0, 1.0, 1.0, 2.0], [9.0, 10.0, 10.0, 10.0, 10.0, 5.0, 10.0, 10.0, 10.0, 4.0], [5.0, 1.0, 1.0, 1.0, 2.0, 1.0, 1.0, 1.0, 1.0, 2.0], [1.0, 2.0, 3.0, 1.0, 2.0, 1.0, 2.0, 1.0, 1.0, 2.0], [3.0, 1.0, 1.0, 1.0, 2.0, 1.0, 1.0, 1.0, 1.0, 2.0], [4.0, 1.0, 2.0, 1.0, 2.0, 1.0, 3.0, 1.0, 1.0, 2.0], [1.0, 1.0, 1.0, 1.0, 2.0, 1.0, 1.0, 1.0, 1.0, 2.0], [1.0, 1.0, 1.0, 1.0, 2.0, 1.0, 2.0, 1.0, 1.0, 2.0], [4.0, 1.0, 1.0, 3.0, 2.0, 1.0, 3.0, 1.0, 1.0, 2.0], [1.0, 1.0, 2.0, 1.0, 2.0, 1.0, 2.0, 1.0, 1.0, 2.0], [1.0, 1.0, 1.0, 1.0, 2.0, 1.0, 2.0, 1.0, 1.0, 2.0], [6.0, 5.0, 4.0, 4.0, 3.0, 9.0, 7.0, 8.0, 3.0, 4.0], [8.0, 10.0, 10.0, 1.0, 3.0, 6.0, 3.0, 9.0, 1.0, 4.0], [2.0, 1.0, 1.0, 1.0, 2.0, 1.0, 3.0, 1.0, 1.0, 2.0], [1.0, 1.0, 1.0, 2.0, 1.0, 1.0, 1.0, 1.0, 1.0, 2.0], [3.0, 1.0, 1.0, 1.0, 2.0, 1.0, 2.0, 1.0, 1.0, 2.0], [3.0, 1.0, 1.0, 1.0, 3.0, 2.0, 1.0, 1.0, 1.0, 2.0], [3.0, 3.0, 5.0, 2.0, 3.0, 10.0, 7.0, 1.0, 1.0, 4.0], [2.0, 1.0, 1.0, 1.0, 2.0, 1.0, 3.0, 1.0, 1.0, 2.0], [1.0, 1.0, 3.0, 1.0, 2.0, -9999.0, 2.0, 1.0, 1.0, 2.0], [8.0, 10.0, 10.0, 8.0, 5.0, 10.0, 7.0, 8.0, 1.0, 4.0], [3.0, 1.0, 1.0, 1.0, 2.0, 1.0, 1.0, 1.0, 1.0, 2.0], [4.0, 1.0, 1.0, 2.0, 2.0, 1.0, 2.0, 1.0, 1.0, 2.0], [5.0, 7.0, 10.0, 6.0, 5.0, 10.0, 7.0, 5.0, 1.0, 4.0], [1.0, 1.0, 1.0, 1.0, 2.0, 1.0, 1.0, 1.0, 1.0, 2.0], [1.0, 1.0, 2.0, 1.0, 2.0, 2.0, 4.0, 2.0, 1.0, 2.0], [6.0, 9.0, 7.0, 5.0, 5.0, 8.0, 4.0, 2.0, 1.0, 2.0], [5.0, 1.0, 1.0, 1.0, 2.0, 1.0, 3.0, 1.0, 1.0, 2.0], [4.0, 1.0, 1.0, 1.0, 3.0, 1.0, 2.0, 2.0, 1.0, 2.0], [2.0, 1.0, 1.0, 1.0, 2.0, 1.0, 2.0, 1.0, 1.0, 2.0], [4.0, 1.0, 1.0, 2.0, 2.0, 1.0, 1.0, 1.0, 1.0, 2.0], [3.0, 4.0, 4.0, 10.0, 5.0, 1.0, 3.0, 3.0, 1.0, 4.0], [5.0, 3.0, 1.0, 1.0, 2.0, 1.0, 1.0, 1.0, 1.0, 2.0], [3.0, 1.0, 1.0, 1.0, 2.0, 1.0, 3.0, 1.0, 1.0, 2.0], [10.0, 10.0, 10.0, 10.0, 7.0, 10.0, 7.0, 10.0, 4.0, 4.0], [1.0, 6.0, 8.0, 10.0, 8.0, 10.0, 5.0, 7.0, 1.0, 4.0], [3.0, 1.0, 1.0, 1.0, 2.0, -9999.0, 3.0, 1.0, 1.0, 2.0], [10.0, 4.0, 5.0, 4.0, 3.0, 5.0, 7.0, 3.0, 1.0, 4.0], [10.0, 1.0, 1.0, 1.0, 2.0, 10.0, 5.0, 4.0, 1.0, 4.0], [5.0, 3.0, 2.0, 8.0, 5.0, 10.0, 8.0, 1.0, 2.0, 4.0], [5.0, 3.0, 6.0, 1.0, 2.0, 1.0, 1.0, 1.0, 1.0, 2.0], [2.0, 1.0, 1.0, 1.0, 2.0, 1.0, 3.0, 1.0, 1.0, 2.0], [7.0, 6.0, 4.0, 8.0, 10.0, 10.0, 9.0, 5.0, 3.0, 4.0], [2.0, 7.0, 10.0, 10.0, 7.0, 10.0, 4.0, 9.0, 4.0, 4.0], [4.0, 6.0, 5.0, 6.0, 7.0, -9999.0, 4.0, 9.0, 1.0, 2.0], [4.0, 1.0, 1.0, 1.0, 2.0, 3.0, 2.0, 1.0, 1.0, 2.0], [1.0, 1.0, 1.0, 1.0, 1.0, 1.0, 2.0, 1.0, 1.0, 2.0], [5.0, 3.0, 3.0, 3.0, 2.0, 3.0, 4.0, 4.0, 1.0, 4.0], [9.0, 5.0, 8.0, 1.0, 2.0, 3.0, 2.0, 1.0, 5.0, 4.0], [2.0, 1.0, 1.0, 1.0, 2.0, 1.0, 2.0, 2.0, 1.0, 2.0], [6.0, 10.0, 10.0, 2.0, 8.0, 10.0, 7.0, 3.0, 3.0, 4.0], [5.0, 4.0, 4.0, 9.0, 2.0, 10.0, 5.0, 6.0, 1.0, 4.0], [10.0, 8.0, 10.0, 1.0, 3.0, 10.0, 5.0, 1.0, 1.0, 4.0], [4.0, 1.0, 3.0, 1.0, 2.0, 1.0, 2.0, 1.0, 1.0, 2.0], [5.0, 1.0, 1.0, 1.0, 2.0, 1.0, 1.0, 1.0, 1.0, 2.0], [4.0, 3.0, 3.0, 1.0, 2.0, 1.0, 3.0, 3.0, 1.0, 2.0], [4.0, 1.0, 2.0, 1.0, 2.0, 1.0, 2.0, 1.0, 1.0, 2.0], [4.0, 1.0, 1.0, 2.0, 2.0, 1.0, 2.0, 1.0, 1.0, 2.0], [6.0, 2.0, 1.0, 1.0, 1.0, 1.0, 7.0, 1.0, 1.0, 2.0], [3.0, 1.0, 1.0, 1.0, 2.0, 1.0, 3.0, 1.0, 1.0, 2.0], [2.0, 1.0, 1.0, 1.0, 2.0, 1.0, 1.0, 1.0, 1.0, 2.0], [10.0, 4.0, 7.0, 2.0, 2.0, 8.0, 6.0, 1.0, 1.0, 4.0], [10.0, 9.0, 7.0, 3.0, 4.0, 2.0, 7.0, 7.0, 1.0, 4.0], [4.0, 1.0, 1.0, 1.0, 2.0, 1.0, 2.0, 1.0, 1.0, 2.0], [10.0, 5.0, 8.0, 10.0, 3.0, 10.0, 5.0, 1.0, 3.0, 4.0], [10.0, 10.0, 10.0, 4.0, 8.0, 1.0, 8.0, 10.0, 1.0, 4.0], [1.0, 1.0, 1.0, 1.0, 5.0, 1.0, 3.0, 1.0, 1.0, 2.0], [5.0, 1.0, 1.0, 1.0, 2.0, 1.0, 1.0, 1.0, 1.0, 2.0], [5.0, 3.0, 3.0, 3.0, 6.0, 10.0, 3.0, 1.0, 1.0, 4.0], [5.0, 10.0, 10.0, 5.0, 4.0, 5.0, 4.0, 4.0, 1.0, 4.0], [10.0, 8.0, 10.0, 10.0, 6.0, 1.0, 3.0, 1.0, 10.0, 4.0], [1.0, 1.0, 1.0, 1.0, 2.0, 1.0, 3.0, 1.0, 1.0, 2.0], [1.0, 1.0, 1.0, 1.0, 2.0, 1.0, 1.0, 1.0, 1.0, 2.0], [7.0, 4.0, 6.0, 4.0, 6.0, 1.0, 4.0, 3.0, 1.0, 4.0], [1.0, 1.0, 3.0, 1.0, 2.0, 1.0, 2.0, 1.0, 1.0, 2.0], [1.0, 1.0, 1.0, 1.0, 2.0, 1.0, 2.0, 1.0, 1.0, 2.0], [1.0, 1.0, 1.0, 1.0, 2.0, 1.0, 3.0, 1.0, 1.0, 2.0], [4.0, 1.0, 1.0, 1.0, 2.0, 1.0, 2.0, 1.0, 1.0, 2.0], [4.0, 1.0, 1.0, 1.0, 2.0, 1.0, 3.0, 1.0, 1.0, 2.0], [3.0, 1.0, 3.0, 1.0, 2.0, -9999.0, 2.0, 1.0, 1.0, 2.0], [2.0, 1.0, 1.0, 1.0, 2.0, 1.0, 2.0, 1.0, 1.0, 2.0], [5.0, 3.0, 2.0, 1.0, 3.0, 1.0, 1.0, 1.0, 1.0, 2.0], [1.0, 1.0, 1.0, 1.0, 2.0, 1.0, 3.0, 1.0, 1.0, 2.0], [3.0, 1.0, 1.0, 1.0, 2.0, 1.0, 3.0, 1.0, 1.0, 2.0], [3.0, 1.0, 1.0, 1.0, 2.0, 1.0, 1.0, 1.0, 1.0, 2.0], [7.0, 1.0, 2.0, 3.0, 2.0, 1.0, 2.0, 1.0, 1.0, 2.0], [1.0, 1.0, 1.0, 1.0, 2.0, 1.0, 1.0, 1.0, 1.0, 2.0], [4.0, 2.0, 2.0, 1.0, 2.0, 1.0, 2.0, 1.0, 1.0, 2.0], [9.0, 7.0, 7.0, 5.0, 5.0, 10.0, 7.0, 8.0, 3.0, 4.0], [6.0, 10.0, 10.0, 10.0, 8.0, 10.0, 7.0, 10.0, 7.0, 4.0], [7.0, 4.0, 5.0, 10.0, 2.0, 10.0, 3.0, 8.0, 2.0, 4.0], [7.0, 6.0, 6.0, 3.0, 2.0, 10.0, 7.0, 1.0, 1.0, 4.0], [5.0, 4.0, 6.0, 6.0, 4.0, 10.0, 4.0, 3.0, 1.0, 4.0], [3.0, 3.0, 5.0, 2.0, 3.0, 10.0, 7.0, 1.0, 1.0, 4.0], [10.0, 6.0, 6.0, 2.0, 4.0, 10.0, 9.0, 7.0, 1.0, 4.0], [1.0, 1.0, 1.0, 1.0, 2.0, 1.0, 3.0, 1.0, 1.0, 2.0], [3.0, 1.0, 1.0, 1.0, 1.0, 1.0, 2.0, 1.0, 1.0, 2.0], [8.0, 7.0, 8.0, 7.0, 5.0, 5.0, 5.0, 10.0, 2.0, 4.0], [3.0, 3.0, 2.0, 1.0, 3.0, 1.0, 3.0, 6.0, 1.0, 2.0], [3.0, 1.0, 1.0, 1.0, 2.0, 2.0, 3.0, 1.0, 1.0, 2.0], [4.0, 1.0, 1.0, 1.0, 2.0, 1.0, 1.0, 1.0, 1.0, 2.0], [5.0, 1.0, 1.0, 1.0, 1.0, 1.0, 1.0, 1.0, 1.0, 2.0], [5.0, 1.0, 1.0, 3.0, 2.0, 1.0, 1.0, 1.0, 1.0, 2.0], [5.0, 10.0, 10.0, 3.0, 7.0, 3.0, 8.0, 10.0, 2.0, 4.0], [3.0, 1.0, 1.0, 1.0, 2.0, 1.0, 2.0, 1.0, 1.0, 2.0], [2.0, 1.0, 1.0, 1.0, 2.0, 1.0, 2.0, 1.0, 1.0, 2.0], [3.0, 2.0, 2.0, 2.0, 2.0, 1.0, 3.0, 2.0, 1.0, 2.0], [9.0, 10.0, 10.0, 1.0, 10.0, 8.0, 3.0, 3.0, 1.0, 4.0], [3.0, 1.0, 1.0, 1.0, 2.0, 1.0, 2.0, 1.0, 1.0, 2.0], [5.0, 5.0, 5.0, 8.0, 10.0, 8.0, 7.0, 3.0, 7.0, 4.0], [3.0, 1.0, 1.0, 3.0, 2.0, 1.0, 1.0, 1.0, 1.0, 2.0], [5.0, 10.0, 6.0, 1.0, 10.0, 4.0, 4.0, 10.0, 10.0, 4.0], [10.0, 10.0, 7.0, 8.0, 7.0, 1.0, 10.0, 10.0, 3.0, 4.0], [10.0, 4.0, 6.0, 1.0, 2.0, 10.0, 5.0, 3.0, 1.0, 4.0], [8.0, 8.0, 9.0, 6.0, 6.0, 3.0, 10.0, 10.0, 1.0, 4.0], [5.0, 10.0, 10.0, 9.0, 6.0, 10.0, 7.0, 10.0, 5.0, 4.0], [5.0, 10.0, 10.0, 6.0, 10.0, 10.0, 10.0, 6.0, 5.0, 4.0], [1.0, 1.0, 1.0, 1.0, 2.0, 1.0, 2.0, 1.0, 2.0, 2.0], [10.0, 10.0, 10.0, 6.0, 8.0, 4.0, 8.0, 5.0, 1.0, 4.0], [1.0, 1.0, 1.0, 1.0, 1.0, 1.0, 3.0, 1.0, 1.0, 2.0], [2.0, 1.0, 1.0, 1.0, 1.0, 1.0, 3.0, 1.0, 1.0, 2.0], [6.0, 10.0, 10.0, 10.0, 8.0, 10.0, 10.0, 10.0, 7.0, 4.0], [9.0, 10.0, 10.0, 10.0, 10.0, 10.0, 10.0, 10.0, 1.0, 4.0], [1.0, 1.0, 1.0, 1.0, 2.0, 1.0, 2.0, 1.0, 1.0, 2.0], [8.0, 4.0, 10.0, 5.0, 4.0, 4.0, 7.0, 10.0, 1.0, 4.0], [1.0, 1.0, 1.0, 1.0, 2.0, 1.0, 3.0, 1.0, 1.0, 2.0], [1.0, 1.0, 1.0, 1.0, 2.0, 1.0, 1.0, 1.0, 1.0, 2.0], [4.0, 1.0, 1.0, 1.0, 2.0, 3.0, 1.0, 1.0, 1.0, 2.0], [5.0, 5.0, 7.0, 8.0, 6.0, 10.0, 7.0, 4.0, 1.0, 4.0], [8.0, 10.0, 10.0, 7.0, 10.0, 10.0, 7.0, 3.0, 8.0, 4.0], [4.0, 1.0, 2.0, 1.0, 2.0, 1.0, 2.0, 1.0, 1.0, 2.0], [3.0, 1.0, 1.0, 1.0, 2.0, 1.0, 1.0, 1.0, 1.0, 2.0], [6.0, 10.0, 7.0, 7.0, 6.0, 4.0, 8.0, 10.0, 2.0, 4.0], [7.0, 5.0, 6.0, 10.0, 5.0, 10.0, 7.0, 9.0, 4.0, 4.0], [1.0, 1.0, 3.0, 1.0, 2.0, 1.0, 1.0, 1.0, 1.0, 2.0], [1.0, 1.0, 1.0, 1.0, 2.0, 1.0, 3.0, 1.0, 1.0, 2.0], [3.0, 2.0, 2.0, 1.0, 4.0, 3.0, 2.0, 1.0, 1.0, 2.0], [1.0, 1.0, 2.0, 1.0, 3.0, -9999.0, 1.0, 1.0, 1.0, 2.0], [8.0, 7.0, 5.0, 10.0, 7.0, 9.0, 5.0, 5.0, 4.0, 4.0], [10.0, 10.0, 10.0, 10.0, 10.0, 1.0, 8.0, 8.0, 8.0, 4.0], [4.0, 2.0, 1.0, 1.0, 2.0, 1.0, 2.0, 1.0, 1.0, 2.0], [10.0, 10.0, 6.0, 3.0, 3.0, 10.0, 4.0, 3.0, 2.0, 4.0], [2.0, 3.0, 1.0, 1.0, 2.0, 1.0, 2.0, 1.0, 1.0, 2.0], [1.0, 1.0, 1.0, 1.0, 2.0, 1.0, 3.0, 1.0, 1.0, 2.0], [5.0, 4.0, 6.0, 8.0, 4.0, 1.0, 8.0, 10.0, 1.0, 4.0], [1.0, 4.0, 3.0, 10.0, 4.0, 10.0, 5.0, 6.0, 1.0, 4.0], [5.0, 3.0, 4.0, 3.0, 4.0, 5.0, 4.0, 7.0, 1.0, 2.0], [2.0, 1.0, 1.0, 1.0, 2.0, 1.0, 1.0, 1.0, 1.0, 2.0], [1.0, 1.0, 1.0, 1.0, 2.0, 1.0, 1.0, 1.0, 1.0, 2.0], [8.0, 10.0, 4.0, 4.0, 8.0, 10.0, 8.0, 2.0, 1.0, 4.0], [4.0, 1.0, 1.0, 1.0, 2.0, 1.0, 1.0, 1.0, 1.0, 2.0], [8.0, 4.0, 4.0, 1.0, 6.0, 10.0, 2.0, 5.0, 2.0, 4.0], [1.0, 1.0, 1.0, 1.0, 2.0, 1.0, 3.0, 1.0, 1.0, 2.0], [2.0, 1.0, 1.0, 1.0, 2.0, 1.0, 3.0, 1.0, 1.0, 2.0], [10.0, 3.0, 3.0, 10.0, 2.0, 10.0, 7.0, 3.0, 3.0, 4.0], [4.0, 1.0, 1.0, 1.0, 2.0, 1.0, 1.0, 1.0, 1.0, 2.0], [4.0, 3.0, 1.0, 1.0, 2.0, 1.0, 4.0, 8.0, 1.0, 2.0], [1.0, 1.0, 1.0, 1.0, 2.0, 1.0, 2.0, 1.0, 1.0, 2.0], [4.0, 1.0, 1.0, 3.0, 2.0, 1.0, 1.0, 1.0, 1.0, 2.0], [10.0, 5.0, 5.0, 6.0, 8.0, 8.0, 7.0, 1.0, 1.0, 4.0], [5.0, 1.0, 3.0, 1.0, 2.0, 1.0, 3.0, 1.0, 1.0, 2.0], [10.0, 2.0, 2.0, 1.0, 2.0, 6.0, 1.0, 1.0, 2.0, 4.0], [1.0, 1.0, 1.0, 1.0, 2.0, 1.0, 1.0, 1.0, 1.0, 2.0], [2.0, 1.0, 1.0, 1.0, 2.0, 1.0, 1.0, 1.0, 1.0, 2.0], [4.0, 1.0, 1.0, 1.0, 2.0, 1.0, 1.0, 1.0, 1.0, 2.0], [6.0, 10.0, 2.0, 8.0, 10.0, 2.0, 7.0, 8.0, 10.0, 4.0], [4.0, 1.0, 2.0, 1.0, 2.0, 1.0, 2.0, 1.0, 1.0, 2.0], [9.0, 6.0, 9.0, 2.0, 10.0, 6.0, 2.0, 9.0, 10.0, 4.0], [5.0, 3.0, 5.0, 1.0, 8.0, 10.0, 5.0, 3.0, 1.0, 4.0], [5.0, 1.0, 1.0, 1.0, 2.0, 1.0, 2.0, 1.0, 1.0, 2.0], [3.0, 1.0, 1.0, 1.0, 3.0, 1.0, 2.0, 1.0, 1.0, 2.0], [1.0, 1.0, 1.0, 1.0, 2.0, 1.0, 3.0, 1.0, 1.0, 2.0], [1.0, 2.0, 1.0, 3.0, 2.0, 1.0, 1.0, 2.0, 1.0, 2.0], [4.0, 1.0, 1.0, 1.0, 2.0, 1.0, 3.0, 2.0, 1.0, 2.0], [3.0, 3.0, 6.0, 4.0, 5.0, 8.0, 4.0, 4.0, 1.0, 4.0], [10.0, 10.0, 9.0, 3.0, 7.0, 5.0, 3.0, 5.0, 1.0, 4.0], [1.0, 1.0, 1.0, 1.0, 2.0, 1.0, 3.0, 1.0, 1.0, 2.0], [7.0, 5.0, 6.0, 3.0, 3.0, 8.0, 7.0, 4.0, 1.0, 4.0], [1.0, 1.0, 1.0, 1.0, 2.0, 2.0, 1.0, 1.0, 1.0, 2.0], [4.0, 2.0, 2.0, 1.0, 2.0, 1.0, 2.0, 1.0, 1.0, 2.0], [1.0, 1.0, 1.0, 1.0, 2.0, 1.0, 3.0, 1.0, 1.0, 2.0], [3.0, 1.0, 1.0, 1.0, 2.0, 1.0, 3.0, 1.0, 1.0, 2.0], [3.0, 1.0, 1.0, 1.0, 2.0, 1.0, 2.0, 2.0, 1.0, 2.0], [10.0, 4.0, 5.0, 5.0, 5.0, 10.0, 4.0, 1.0, 1.0, 4.0], [3.0, 10.0, 8.0, 7.0, 6.0, 9.0, 9.0, 3.0, 8.0, 4.0], [5.0, 1.0, 1.0, 1.0, 2.0, 1.0, 2.0, 1.0, 1.0, 2.0], [7.0, 8.0, 7.0, 6.0, 4.0, 3.0, 8.0, 8.0, 4.0, 4.0], [2.0, 1.0, 1.0, 2.0, 2.0, 1.0, 3.0, 1.0, 1.0, 2.0], [2.0, 1.0, 1.0, 1.0, 2.0, 1.0, 1.0, 1.0, 1.0, 2.0], [1.0, 1.0, 1.0, 1.0, 1.0, 1.0, 2.0, 1.0, 1.0, 2.0], [3.0, 1.0, 2.0, 1.0, 2.0, 1.0, 2.0, 1.0, 1.0, 2.0], [3.0, 1.0, 1.0, 1.0, 2.0, 1.0, 1.0, 1.0, 1.0, 2.0], [7.0, 2.0, 4.0, 1.0, 6.0, 10.0, 5.0, 4.0, 3.0, 4.0], [7.0, 8.0, 8.0, 7.0, 3.0, 10.0, 7.0, 2.0, 3.0, 4.0], [8.0, 3.0, 5.0, 4.0, 5.0, 10.0, 1.0, 6.0, 2.0, 4.0], [8.0, 10.0, 10.0, 10.0, 7.0, 5.0, 4.0, 8.0, 7.0, 4.0], [1.0, 1.0, 1.0, 1.0, 2.0, 1.0, 3.0, 1.0, 1.0, 2.0], [4.0, 1.0, 1.0, 1.0, 2.0, 1.0, 3.0, 1.0, 1.0, 2.0], [5.0, 3.0, 4.0, 1.0, 4.0, 1.0, 3.0, 1.0, 1.0, 2.0], [1.0, 1.0, 1.0, 1.0, 3.0, 2.0, 2.0, 1.0, 1.0, 2.0], [3.0, 2.0, 2.0, 2.0, 2.0, 1.0, 4.0, 2.0, 1.0, 2.0], [5.0, 1.0, 1.0, 3.0, 4.0, 1.0, 3.0, 2.0, 1.0, 2.0], [2.0, 1.0, 1.0, 1.0, 2.0, 1.0, 1.0, 1.0, 1.0, 2.0], [3.0, 4.0, 5.0, 2.0, 6.0, 8.0, 4.0, 1.0, 1.0, 4.0], [5.0, 1.0, 1.0, 1.0, 2.0, 1.0, 2.0, 1.0, 1.0, 2.0], [6.0, 3.0, 4.0, 1.0, 5.0, 2.0, 3.0, 9.0, 1.0, 4.0], [2.0, 1.0, 1.0, 1.0, 1.0, 1.0, 1.0, 1.0, 1.0, 2.0], [8.0, 4.0, 4.0, 5.0, 4.0, 7.0, 7.0, 8.0, 2.0, 2.0], [5.0, 8.0, 8.0, 8.0, 5.0, 10.0, 7.0, 8.0, 1.0, 4.0], [5.0, 2.0, 2.0, 2.0, 3.0, 1.0, 1.0, 3.0, 1.0, 2.0], [3.0, 1.0, 1.0, 1.0, 2.0, 1.0, 2.0, 1.0, 1.0, 2.0], [5.0, 3.0, 1.0, 2.0, 2.0, 1.0, 2.0, 1.0, 1.0, 2.0], [5.0, 10.0, 10.0, 10.0, 10.0, 2.0, 10.0, 10.0, 10.0, 4.0], [4.0, 5.0, 5.0, 10.0, 4.0, 10.0, 7.0, 5.0, 8.0, 4.0], [2.0, 1.0, 1.0, 2.0, 3.0, 1.0, 2.0, 1.0, 1.0, 2.0], [1.0, 1.0, 1.0, 1.0, 2.0, -9999.0, 2.0, 1.0, 1.0, 2.0], [5.0, 1.0, 1.0, 1.0, 2.0, 1.0, 2.0, 1.0, 1.0, 2.0], [8.0, 10.0, 10.0, 10.0, 6.0, 10.0, 10.0, 10.0, 1.0, 4.0], [4.0, 7.0, 8.0, 3.0, 4.0, 10.0, 9.0, 1.0, 1.0, 4.0], [5.0, 2.0, 3.0, 1.0, 6.0, 10.0, 5.0, 1.0, 1.0, 4.0], [5.0, 1.0, 1.0, 1.0, 2.0, 2.0, 3.0, 3.0, 1.0, 2.0], [1.0, 1.0, 3.0, 2.0, 2.0, 1.0, 3.0, 1.0, 1.0, 2.0], [5.0, 1.0, 2.0, 1.0, 2.0, 1.0, 3.0, 1.0, 1.0, 2.0], [1.0, 3.0, 1.0, 1.0, 2.0, 1.0, 2.0, 2.0, 1.0, 2.0], [9.0, 5.0, 5.0, 4.0, 4.0, 5.0, 4.0, 3.0, 3.0, 4.0], [3.0, 2.0, 2.0, 1.0, 2.0, 1.0, 2.0, 3.0, 1.0, 2.0], [10.0, 10.0, 10.0, 10.0, 3.0, 10.0, 10.0, 6.0, 1.0, 4.0], [1.0, 3.0, 1.0, 2.0, 2.0, 2.0, 5.0, 3.0, 2.0, 2.0], [1.0, 1.0, 1.0, 1.0, 3.0, 1.0, 1.0, 1.0, 1.0, 2.0], [6.0, 10.0, 10.0, 10.0, 4.0, 10.0, 7.0, 10.0, 1.0, 4.0], [8.0, 2.0, 1.0, 1.0, 5.0, 1.0, 1.0, 1.0, 1.0, 2.0], [1.0, 1.0, 1.0, 1.0, 1.0, 1.0, 1.0, 1.0, 1.0, 2.0], [5.0, 1.0, 1.0, 1.0, 2.0, 1.0, 1.0, 1.0, 1.0, 2.0], [3.0, 1.0, 1.0, 1.0, 2.0, 5.0, 1.0, 1.0, 1.0, 2.0], [2.0, 1.0, 1.0, 1.0, 2.0, 1.0, 3.0, 1.0, 1.0, 2.0], [7.0, 8.0, 3.0, 7.0, 4.0, 5.0, 7.0, 8.0, 2.0, 4.0], [1.0, 1.0, 1.0, 1.0, 1.0, -9999.0, 2.0, 1.0, 1.0, 2.0], [1.0, 1.0, 1.0, 1.0, 2.0, 1.0, 3.0, 1.0, 1.0, 2.0], [5.0, 8.0, 4.0, 10.0, 5.0, 8.0, 9.0, 10.0, 1.0, 4.0], [10.0, 3.0, 5.0, 1.0, 10.0, 5.0, 3.0, 10.0, 2.0, 4.0], [1.0, 1.0, 1.0, 1.0, 2.0, 1.0, 1.0, 1.0, 1.0, 2.0], [6.0, 1.0, 3.0, 1.0, 2.0, 1.0, 3.0, 1.0, 1.0, 2.0], [9.0, 10.0, 10.0, 1.0, 10.0, 8.0, 3.0, 3.0, 1.0, 4.0], [2.0, 3.0, 4.0, 4.0, 2.0, 5.0, 2.0, 5.0, 1.0, 4.0], [5.0, 1.0, 1.0, 1.0, 2.0, 1.0, 2.0, 2.0, 1.0, 2.0], [5.0, 10.0, 10.0, 10.0, 6.0, 10.0, 6.0, 5.0, 2.0, 4.0], [7.0, 6.0, 3.0, 2.0, 5.0, 10.0, 7.0, 4.0, 6.0, 4.0], [1.0, 1.0, 1.0, 1.0, 2.0, 1.0, 1.0, 1.0, 1.0, 2.0], [5.0, 1.0, 1.0, 1.0, 2.0, 1.0, 3.0, 1.0, 1.0, 2.0], [10.0, 7.0, 7.0, 4.0, 5.0, 10.0, 5.0, 7.0, 2.0, 4.0], [7.0, 5.0, 3.0, 7.0, 4.0, 10.0, 7.0, 5.0, 5.0, 4.0], [1.0, 1.0, 1.0, 1.0, 2.0, 1.0, 2.0, 1.0, 1.0, 2.0], [3.0, 1.0, 1.0, 1.0, 2.0, 1.0, 1.0, 1.0, 1.0, 2.0], [1.0, 1.0, 1.0, 1.0, 1.0, 1.0, 2.0, 1.0, 1.0, 2.0], [8.0, 7.0, 4.0, 4.0, 5.0, 3.0, 5.0, 10.0, 1.0, 4.0], [3.0, 1.0, 1.0, 1.0, 2.0, 1.0, 3.0, 1.0, 1.0, 2.0], [1.0, 1.0, 1.0, 1.0, 2.0, 1.0, 1.0, 1.0, 1.0, 2.0], [5.0, 1.0, 1.0, 1.0, 2.0, 1.0, 3.0, 1.0, 1.0, 2.0], [1.0, 1.0, 1.0, 3.0, 2.0, 3.0, 1.0, 1.0, 1.0, 2.0], [5.0, 6.0, 7.0, 8.0, 8.0, 10.0, 3.0, 10.0, 3.0, 4.0], [10.0, 10.0, 10.0, 8.0, 2.0, 10.0, 4.0, 1.0, 1.0, 4.0], [3.0, 1.0, 1.0, 1.0, 2.0, 1.0, 1.0, 1.0, 1.0, 2.0], [1.0, 1.0, 1.0, 1.0, 2.0, 1.0, 3.0, 1.0, 1.0, 2.0], [2.0, 1.0, 1.0, 2.0, 2.0, 1.0, 1.0, 1.0, 1.0, 2.0], [8.0, 7.0, 8.0, 5.0, 10.0, 10.0, 7.0, 2.0, 1.0, 4.0], [4.0, 1.0, 1.0, 1.0, 2.0, 1.0, 2.0, 1.0, 1.0, 2.0], [2.0, 1.0, 1.0, 1.0, 2.0, 1.0, 2.0, 1.0, 1.0, 2.0], [3.0, 1.0, 1.0, 1.0, 2.0, 1.0, 2.0, 1.0, 1.0, 2.0], [6.0, 1.0, 1.0, 3.0, 2.0, 1.0, 1.0, 1.0, 1.0, 2.0], [5.0, 1.0, 1.0, 1.0, 2.0, 1.0, 2.0, 1.0, 1.0, 2.0], [6.0, 3.0, 3.0, 3.0, 3.0, 2.0, 6.0, 1.0, 1.0, 2.0], [8.0, 10.0, 10.0, 10.0, 6.0, 10.0, 10.0, 10.0, 10.0, 4.0], [5.0, 4.0, 3.0, 1.0, 2.0, -9999.0, 2.0, 3.0, 1.0, 2.0], [2.0, 1.0, 1.0, 1.0, 2.0, 1.0, 2.0, 1.0, 1.0, 2.0], [3.0, 1.0, 1.0, 1.0, 2.0, 1.0, 2.0, 1.0, 1.0, 2.0], [5.0, 1.0, 1.0, 3.0, 2.0, 1.0, 1.0, 1.0, 1.0, 2.0], [4.0, 1.0, 1.0, 1.0, 2.0, 1.0, 3.0, 1.0, 1.0, 2.0], [9.0, 1.0, 2.0, 6.0, 4.0, 10.0, 7.0, 7.0, 2.0, 4.0], [8.0, 3.0, 8.0, 3.0, 4.0, 9.0, 8.0, 9.0, 8.0, 4.0], [3.0, 1.0, 1.0, 1.0, 2.0, 1.0, 1.0, 1.0, 1.0, 2.0], [9.0, 8.0, 8.0, 5.0, 6.0, 2.0, 4.0, 10.0, 4.0, 4.0], [3.0, 6.0, 6.0, 6.0, 5.0, 10.0, 6.0, 8.0, 3.0, 4.0], [2.0, 5.0, 7.0, 6.0, 4.0, 10.0, 7.0, 6.0, 1.0, 4.0], [5.0, 1.0, 4.0, 1.0, 2.0, 1.0, 3.0, 2.0, 1.0, 2.0], [10.0, 4.0, 2.0, 1.0, 3.0, 2.0, 4.0, 3.0, 10.0, 4.0], [5.0, 7.0, 10.0, 10.0, 5.0, 10.0, 10.0, 10.0, 1.0, 4.0], [10.0, 10.0, 8.0, 10.0, 6.0, 5.0, 10.0, 3.0, 1.0, 4.0], [8.0, 10.0, 8.0, 8.0, 4.0, 8.0, 7.0, 7.0, 1.0, 4.0], [5.0, 4.0, 5.0, 1.0, 8.0, 1.0, 3.0, 6.0, 1.0, 2.0], [6.0, 6.0, 7.0, 10.0, 3.0, 10.0, 8.0, 10.0, 2.0, 4.0], [10.0, 6.0, 4.0, 3.0, 10.0, 10.0, 9.0, 10.0, 1.0, 4.0], [10.0, 7.0, 7.0, 6.0, 4.0, 10.0, 4.0, 1.0, 2.0, 4.0], [8.0, 10.0, 3.0, 2.0, 6.0, 4.0, 3.0, 10.0, 1.0, 4.0], [3.0, 1.0, 1.0, 4.0, 3.0, 1.0, 2.0, 2.0, 1.0, 2.0], [4.0, 4.0, 4.0, 4.0, 6.0, 5.0, 7.0, 3.0, 1.0, 2.0], [4.0, 1.0, 1.0, 3.0, 1.0, 1.0, 2.0, 1.0, 1.0, 2.0], [7.0, 3.0, 2.0, 10.0, 5.0, 10.0, 5.0, 4.0, 4.0, 4.0], [4.0, 1.0, 1.0, 1.0, 2.0, 1.0, 3.0, 2.0, 1.0, 2.0], [5.0, 1.0, 1.0, 1.0, 2.0, 1.0, 3.0, 2.0, 1.0, 2.0], [10.0, 8.0, 7.0, 4.0, 3.0, 10.0, 7.0, 9.0, 1.0, 4.0], [6.0, 1.0, 1.0, 1.0, 2.0, 1.0, 3.0, 1.0, 1.0, 2.0], [1.0, 1.0, 2.0, 1.0, 2.0, 1.0, 2.0, 1.0, 1.0, 2.0], [3.0, 1.0, 1.0, 1.0, 2.0, 1.0, 2.0, 1.0, 2.0, 2.0], [1.0, 1.0, 1.0, 1.0, 2.0, 10.0, 3.0, 1.0, 1.0, 2.0], [6.0, 5.0, 5.0, 8.0, 4.0, 10.0, 3.0, 4.0, 1.0, 4.0], [10.0, 10.0, 10.0, 8.0, 6.0, 8.0, 7.0, 10.0, 1.0, 4.0], [10.0, 9.0, 8.0, 7.0, 6.0, 4.0, 7.0, 10.0, 3.0, 4.0], [5.0, 2.0, 2.0, 2.0, 2.0, 2.0, 3.0, 2.0, 2.0, 2.0], [3.0, 1.0, 1.0, 1.0, 2.0, 5.0, 5.0, 1.0, 1.0, 2.0], [1.0, 1.0, 1.0, 1.0, 1.0, 1.0, 3.0, 1.0, 1.0, 2.0], [1.0, 1.0, 1.0, 1.0, 2.0, 1.0, 1.0, 1.0, 1.0, 2.0], [3.0, 1.0, 1.0, 1.0, 1.0, 1.0, 2.0, 1.0, 1.0, 2.0], [1.0, 1.0, 1.0, 1.0, 2.0, 1.0, 1.0, 1.0, 1.0, 2.0], [6.0, 8.0, 7.0, 8.0, 6.0, 8.0, 8.0, 9.0, 1.0, 4.0], [2.0, 1.0, 3.0, 2.0, 2.0, 1.0, 2.0, 1.0, 1.0, 2.0], [4.0, 10.0, 4.0, 7.0, 3.0, 10.0, 9.0, 10.0, 1.0, 4.0], [5.0, 2.0, 2.0, 2.0, 2.0, 1.0, 2.0, 2.0, 1.0, 2.0], [2.0, 1.0, 1.0, 1.0, 2.0, 1.0, 3.0, 1.0, 1.0, 2.0], [4.0, 6.0, 6.0, 5.0, 7.0, 6.0, 7.0, 7.0, 3.0, 4.0], [4.0, 1.0, 1.0, 1.0, 1.0, 1.0, 2.0, 1.0, 1.0, 2.0], [3.0, 1.0, 1.0, 1.0, 2.0, 1.0, 3.0, 2.0, 1.0, 2.0], [5.0, 8.0, 8.0, 10.0, 5.0, 10.0, 8.0, 10.0, 3.0, 4.0], [2.0, 1.0, 1.0, 1.0, 2.0, 1.0, 2.0, 1.0, 1.0, 2.0], [10.0, 5.0, 10.0, 3.0, 5.0, 8.0, 7.0, 8.0, 3.0, 4.0], [3.0, 1.0, 1.0, 1.0, 2.0, 1.0, 2.0, 1.0, 1.0, 2.0], [2.0, 1.0, 1.0, 1.0, 2.0, 1.0, 1.0, 1.0, 1.0, 2.0], [3.0, 1.0, 2.0, 1.0, 2.0, 1.0, 3.0, 1.0, 1.0, 2.0], [3.0, 1.0, 1.0, 2.0, 3.0, 4.0, 1.0, 1.0, 1.0, 2.0], [7.0, 6.0, 10.0, 5.0, 3.0, 10.0, 9.0, 10.0, 2.0, 4.0], [5.0, 1.0, 1.0, 3.0, 2.0, 1.0, 1.0, 1.0, 1.0, 2.0], [8.0, 3.0, 3.0, 1.0, 2.0, 2.0, 3.0, 2.0, 1.0, 2.0], [4.0, 1.0, 1.0, 1.0, 2.0, 1.0, 2.0, 1.0, 1.0, 2.0], [1.0, 1.0, 1.0, 1.0, 1.0, 1.0, 1.0, 1.0, 1.0, 2.0], [1.0, 1.0, 1.0, 2.0, 2.0, 1.0, 3.0, 1.0, 1.0, 2.0], [3.0, 1.0, 1.0, 1.0, 2.0, 1.0, 2.0, 1.0, 1.0, 2.0], [3.0, 1.0, 1.0, 1.0, 2.0, 1.0, 2.0, 1.0, 1.0, 2.0], [10.0, 6.0, 6.0, 3.0, 4.0, 5.0, 3.0, 6.0, 1.0, 4.0], [1.0, 1.0, 1.0, 1.0, 2.0, 1.0, 2.0, 1.0, 1.0, 2.0], [3.0, 1.0, 1.0, 1.0, 2.0, 4.0, 1.0, 1.0, 1.0, 2.0], [6.0, 1.0, 3.0, 2.0, 2.0, 1.0, 1.0, 1.0, 1.0, 2.0], [10.0, 4.0, 3.0, 1.0, 3.0, 3.0, 6.0, 5.0, 2.0, 4.0], [1.0, 1.0, 1.0, 2.0, 2.0, 1.0, 2.0, 1.0, 1.0, 2.0], [10.0, 8.0, 8.0, 2.0, 8.0, 10.0, 4.0, 8.0, 10.0, 4.0], [3.0, 3.0, 2.0, 2.0, 3.0, 1.0, 1.0, 2.0, 3.0, 2.0], [4.0, 1.0, 1.0, 1.0, 2.0, 1.0, 1.0, 1.0, 1.0, 2.0], [4.0, 2.0, 3.0, 5.0, 3.0, 8.0, 7.0, 6.0, 1.0, 4.0], [5.0, 6.0, 6.0, 8.0, 6.0, 10.0, 4.0, 10.0, 4.0, 4.0], [1.0, 1.0, 1.0, 1.0, 2.0, 1.0, 1.0, 1.0, 1.0, 2.0], [1.0, 1.0, 1.0, 1.0, 1.0, 1.0, 1.0, 1.0, 1.0, 2.0], [1.0, 1.0, 1.0, 1.0, 1.0, 1.0, 3.0, 1.0, 1.0, 2.0], [4.0, 1.0, 1.0, 1.0, 2.0, 1.0, 1.0, 1.0, 1.0, 2.0], [1.0, 1.0, 1.0, 2.0, 1.0, 3.0, 1.0, 1.0, 7.0, 2.0], [1.0, 1.0, 1.0, 1.0, 2.0, 5.0, 1.0, 1.0, 1.0, 2.0], [6.0, 10.0, 10.0, 10.0, 10.0, 10.0, 8.0, 10.0, 10.0, 4.0], [5.0, 1.0, 1.0, 1.0, 2.0, 1.0, 3.0, 1.0, 1.0, 2.0], [1.0, 2.0, 1.0, 3.0, 2.0, 1.0, 2.0, 1.0, 1.0, 2.0], [5.0, 1.0, 1.0, 1.0, 2.0, 1.0, 2.0, 1.0, 1.0, 2.0], [5.0, 1.0, 1.0, 1.0, 2.0, 1.0, 1.0, 1.0, 1.0, 2.0], [9.0, 4.0, 5.0, 10.0, 6.0, 10.0, 4.0, 8.0, 1.0, 4.0], [5.0, 1.0, 1.0, 4.0, 2.0, 1.0, 3.0, 1.0, 1.0, 2.0], [10.0, 10.0, 10.0, 3.0, 10.0, 8.0, 8.0, 1.0, 1.0, 4.0], [4.0, 3.0, 2.0, 1.0, 3.0, 1.0, 2.0, 1.0, 1.0, 2.0], [3.0, 1.0, 1.0, 2.0, 2.0, 1.0, 1.0, 1.0, 1.0, 2.0], [6.0, 1.0, 1.0, 1.0, 2.0, 1.0, 2.0, 1.0, 1.0, 2.0], [5.0, 8.0, 7.0, 7.0, 10.0, 10.0, 5.0, 7.0, 1.0, 4.0], [6.0, 1.0, 3.0, 1.0, 4.0, 5.0, 5.0, 10.0, 1.0, 4.0], [4.0, 1.0, 1.0, 1.0, 2.0, 1.0, 3.0, 1.0, 1.0, 2.0], [3.0, 2.0, 1.0, 1.0, 2.0, 2.0, 3.0, 1.0, 1.0, 2.0], [6.0, 6.0, 6.0, 5.0, 4.0, 10.0, 7.0, 6.0, 2.0, 4.0], [10.0, 6.0, 5.0, 8.0, 5.0, 10.0, 8.0, 6.0, 1.0, 4.0], [10.0, 4.0, 4.0, 10.0, 2.0, 10.0, 5.0, 3.0, 3.0, 4.0], [7.0, 2.0, 4.0, 1.0, 3.0, 4.0, 3.0, 3.0, 1.0, 4.0], [3.0, 1.0, 1.0, 1.0, 2.0, -9999.0, 3.0, 1.0, 1.0, 2.0], [3.0, 1.0, 3.0, 1.0, 3.0, 4.0, 1.0, 1.0, 1.0, 2.0], [10.0, 5.0, 7.0, 4.0, 4.0, 10.0, 8.0, 9.0, 1.0, 4.0], [5.0, 1.0, 1.0, 1.0, 2.0, 1.0, 2.0, 1.0, 1.0, 2.0], [1.0, 1.0, 1.0, 1.0, 2.0, 1.0, 3.0, 1.0, 1.0, 2.0], [4.0, 1.0, 1.0, 1.0, 2.0, 1.0, 1.0, 1.0, 1.0, 2.0], [4.0, 1.0, 1.0, 3.0, 1.0, 5.0, 2.0, 1.0, 1.0, 4.0], [3.0, 1.0, 1.0, 1.0, 2.0, 1.0, 2.0, 1.0, 1.0, 2.0], [1.0, 1.0, 1.0, 1.0, 1.0, 1.0, 2.0, 1.0, 1.0, 2.0], [10.0, 10.0, 8.0, 6.0, 4.0, 5.0, 8.0, 10.0, 1.0, 4.0], [5.0, 2.0, 2.0, 2.0, 1.0, 1.0, 2.0, 1.0, 1.0, 2.0], [4.0, 1.0, 1.0, 1.0, 2.0, 1.0, 2.0, 1.0, 1.0, 2.0], [10.0, 10.0, 10.0, 10.0, 10.0, 10.0, 4.0, 10.0, 10.0, 4.0], [3.0, 2.0, 2.0, 3.0, 2.0, 1.0, 1.0, 1.0, 1.0, 2.0], [3.0, 2.0, 1.0, 2.0, 2.0, 1.0, 3.0, 1.0, 1.0, 2.0], [3.0, 1.0, 1.0, 1.0, 2.0, 1.0, 2.0, 1.0, 1.0, 2.0], [3.0, 1.0, 1.0, 1.0, 2.0, 3.0, 3.0, 1.0, 1.0, 2.0], [4.0, 4.0, 4.0, 2.0, 2.0, 3.0, 2.0, 1.0, 1.0, 2.0], [3.0, 1.0, 1.0, 1.0, 2.0, 1.0, 2.0, 1.0, 1.0, 2.0], [4.0, 1.0, 1.0, 1.0, 2.0, 1.0, 1.0, 2.0, 1.0, 2.0], [1.0, 1.0, 1.0, 1.0, 2.0, 1.0, 1.0, 1.0, 1.0, 2.0], [10.0, 10.0, 10.0, 7.0, 10.0, 10.0, 8.0, 2.0, 1.0, 4.0], [8.0, 5.0, 6.0, 2.0, 3.0, 10.0, 6.0, 6.0, 1.0, 4.0], [1.0, 1.0, 1.0, 1.0, 2.0, 1.0, 3.0, 1.0, 1.0, 2.0], [10.0, 10.0, 10.0, 7.0, 9.0, 10.0, 7.0, 10.0, 10.0, 4.0], [4.0, 1.0, 1.0, 1.0, 2.0, 1.0, 3.0, 6.0, 1.0, 2.0], [5.0, 3.0, 3.0, 1.0, 2.0, 1.0, 2.0, 1.0, 1.0, 2.0], [8.0, 10.0, 10.0, 10.0, 8.0, 10.0, 10.0, 7.0, 3.0, 4.0], [1.0, 2.0, 3.0, 1.0, 2.0, 1.0, 1.0, 1.0, 1.0, 2.0], [3.0, 1.0, 1.0, 1.0, 2.0, 1.0, 2.0, 1.0, 1.0, 2.0], [4.0, 1.0, 1.0, 1.0, 2.0, 1.0, 3.0, 1.0, 1.0, 2.0], [3.0, 1.0, 1.0, 1.0, 2.0, 1.0, 1.0, 1.0, 1.0, 2.0], [8.0, 5.0, 5.0, 5.0, 2.0, 10.0, 4.0, 3.0, 1.0, 4.0], [5.0, 3.0, 3.0, 1.0, 3.0, 3.0, 3.0, 3.0, 3.0, 4.0], [5.0, 1.0, 1.0, 1.0, 2.0, 1.0, 2.0, 2.0, 1.0, 2.0], [7.0, 5.0, 10.0, 10.0, 10.0, 10.0, 4.0, 10.0, 3.0, 4.0], [8.0, 4.0, 6.0, 3.0, 3.0, 1.0, 4.0, 3.0, 1.0, 2.0], [2.0, 1.0, 1.0, 1.0, 2.0, 1.0, 3.0, 1.0, 1.0, 2.0], [5.0, 4.0, 4.0, 5.0, 7.0, 10.0, 3.0, 2.0, 1.0, 2.0], [7.0, 3.0, 4.0, 4.0, 3.0, 3.0, 3.0, 2.0, 7.0, 4.0], [8.0, 4.0, 5.0, 1.0, 2.0, -9999.0, 7.0, 3.0, 1.0, 4.0], [1.0, 1.0, 1.0, 1.0, 2.0, 1.0, 2.0, 1.0, 1.0, 2.0], [3.0, 2.0, 2.0, 3.0, 2.0, 3.0, 3.0, 1.0, 1.0, 2.0], [2.0, 1.0, 1.0, 1.0, 1.0, 1.0, 2.0, 1.0, 1.0, 2.0], [1.0, 1.0, 1.0, 1.0, 2.0, 1.0, 2.0, 1.0, 1.0, 2.0], [5.0, 1.0, 3.0, 3.0, 2.0, 2.0, 2.0, 3.0, 1.0, 2.0], [2.0, 1.0, 1.0, 1.0, 2.0, 1.0, 1.0, 1.0, 1.0, 2.0], [2.0, 1.0, 1.0, 1.0, 2.0, 1.0, 2.0, 1.0, 1.0, 2.0], [4.0, 8.0, 7.0, 10.0, 4.0, 10.0, 7.0, 5.0, 1.0, 4.0], [1.0, 1.0, 1.0, 1.0, 2.0, 1.0, 2.0, 1.0, 1.0, 2.0], [8.0, 6.0, 7.0, 3.0, 3.0, 10.0, 3.0, 4.0, 2.0, 4.0], [3.0, 4.0, 5.0, 3.0, 7.0, 3.0, 4.0, 6.0, 1.0, 2.0], [10.0, 10.0, 10.0, 10.0, 6.0, 10.0, 8.0, 1.0, 5.0, 4.0], [1.0, 1.0, 1.0, 1.0, 1.0, -9999.0, 1.0, 1.0, 1.0, 2.0], [5.0, 1.0, 1.0, 3.0, 2.0, 1.0, 1.0, 1.0, 1.0, 2.0], [5.0, 5.0, 5.0, 2.0, 5.0, 10.0, 4.0, 3.0, 1.0, 4.0], [2.0, 1.0, 1.0, 1.0, 3.0, 1.0, 2.0, 1.0, 1.0, 2.0], [5.0, 1.0, 2.0, 1.0, 2.0, 1.0, 2.0, 1.0, 1.0, 2.0], [5.0, 1.0, 2.0, 1.0, 2.0, 1.0, 1.0, 1.0, 1.0, 2.0], [3.0, 10.0, 3.0, 10.0, 6.0, 10.0, 5.0, 1.0, 4.0, 4.0], [1.0, 1.0, 1.0, 1.0, 2.0, 1.0, 1.0, 1.0, 1.0, 2.0], [4.0, 1.0, 1.0, 1.0, 2.0, 1.0, 3.0, 1.0, 1.0, 2.0], [1.0, 2.0, 2.0, 1.0, 2.0, 1.0, 1.0, 1.0, 1.0, 2.0], [3.0, 1.0, 2.0, 1.0, 2.0, 1.0, 2.0, 1.0, 1.0, 2.0], [1.0, 1.0, 3.0, 1.0, 1.0, 1.0, 2.0, 1.0, 1.0, 2.0], [2.0, 2.0, 2.0, 1.0, 1.0, 1.0, 7.0, 1.0, 1.0, 2.0], [1.0, 1.0, 1.0, 1.0, 1.0, 1.0, 1.0, 1.0, 1.0, 2.0], [5.0, 1.0, 2.0, 10.0, 4.0, 5.0, 2.0, 1.0, 1.0, 2.0], [4.0, 5.0, 5.0, 8.0, 6.0, 10.0, 10.0, 7.0, 1.0, 4.0], [8.0, 6.0, 4.0, 3.0, 5.0, 9.0, 3.0, 1.0, 1.0, 4.0], [4.0, 8.0, 6.0, 3.0, 4.0, 10.0, 7.0, 1.0, 1.0, 4.0], [5.0, 3.0, 5.0, 5.0, 3.0, 3.0, 4.0, 10.0, 1.0, 4.0], [8.0, 7.0, 8.0, 2.0, 4.0, 2.0, 5.0, 10.0, 1.0, 4.0], [1.0, 1.0, 1.0, 1.0, 1.0, 1.0, 3.0, 1.0, 1.0, 2.0], [1.0, 1.0, 1.0, 1.0, 2.0, 1.0, 3.0, 1.0, 1.0, 2.0], [1.0, 2.0, 2.0, 1.0, 2.0, 1.0, 1.0, 1.0, 1.0, 2.0], [5.0, 6.0, 5.0, 6.0, 10.0, 1.0, 3.0, 1.0, 1.0, 4.0], [5.0, 3.0, 3.0, 4.0, 2.0, 4.0, 3.0, 4.0, 1.0, 4.0], [4.0, 8.0, 8.0, 5.0, 4.0, 5.0, 10.0, 4.0, 1.0, 4.0], [1.0, 1.0, 1.0, 1.0, 1.0, 1.0, 3.0, 1.0, 1.0, 2.0], [3.0, 1.0, 1.0, 1.0, 2.0, 1.0, 3.0, 1.0, 1.0, 2.0], [4.0, 1.0, 1.0, 1.0, 2.0, 1.0, 3.0, 1.0, 1.0, 2.0], [3.0, 1.0, 1.0, 2.0, 2.0, 1.0, 1.0, 1.0, 1.0, 2.0], [10.0, 10.0, 10.0, 10.0, 5.0, 10.0, 10.0, 10.0, 7.0, 4.0], [10.0, 10.0, 10.0, 1.0, 6.0, 1.0, 2.0, 8.0, 1.0, 4.0], [8.0, 4.0, 7.0, 1.0, 3.0, 10.0, 3.0, 9.0, 2.0, 4.0], [5.0, 8.0, 9.0, 4.0, 3.0, 10.0, 7.0, 1.0, 1.0, 4.0], [5.0, 1.0, 2.0, 1.0, 2.0, 1.0, 3.0, 1.0, 1.0, 2.0], [10.0, 10.0, 10.0, 2.0, 10.0, 10.0, 5.0, 3.0, 3.0, 4.0], [1.0, 1.0, 1.0, 1.0, 2.0, 1.0, 2.0, 1.0, 1.0, 2.0], [5.0, 1.0, 1.0, 1.0, 2.0, 1.0, 3.0, 1.0, 1.0, 2.0], [1.0, 1.0, 1.0, 3.0, 1.0, 3.0, 1.0, 1.0, 1.0, 2.0], [8.0, 6.0, 4.0, 10.0, 10.0, 1.0, 3.0, 5.0, 1.0, 4.0], [4.0, 1.0, 4.0, 1.0, 2.0, 1.0, 1.0, 1.0, 1.0, 2.0], [3.0, 1.0, 2.0, 1.0, 2.0, 1.0, 2.0, 1.0, 1.0, 2.0], [4.0, 1.0, 1.0, 1.0, 2.0, 1.0, 1.0, 1.0, 1.0, 2.0], [1.0, 1.0, 1.0, 1.0, 2.0, 1.0, 1.0, 1.0, 1.0, 2.0], [10.0, 6.0, 3.0, 6.0, 4.0, 10.0, 7.0, 8.0, 4.0, 4.0], [10.0, 8.0, 8.0, 4.0, 10.0, 10.0, 8.0, 1.0, 1.0, 4.0], [9.0, 5.0, 5.0, 2.0, 2.0, 2.0, 5.0, 1.0, 1.0, 4.0], [1.0, 1.0, 1.0, 1.0, 2.0, 1.0, 1.0, 1.0, 1.0, 2.0], [4.0, 1.0, 1.0, 1.0, 2.0, 1.0, 2.0, 1.0, 1.0, 2.0], [10.0, 4.0, 3.0, 2.0, 3.0, 10.0, 5.0, 3.0, 2.0, 4.0], [1.0, 1.0, 1.0, 1.0, 2.0, 1.0, 2.0, 1.0, 1.0, 2.0], [10.0, 3.0, 3.0, 1.0, 2.0, 10.0, 7.0, 6.0, 1.0, 4.0], [3.0, 1.0, 1.0, 1.0, 1.0, 1.0, 2.0, 1.0, 1.0, 2.0], [5.0, 2.0, 4.0, 1.0, 1.0, 1.0, 1.0, 1.0, 1.0, 2.0], [6.0, 10.0, 5.0, 5.0, 4.0, 10.0, 6.0, 10.0, 1.0, 4.0], [1.0, 1.0, 1.0, 1.0, 2.0, 1.0, 2.0, 1.0, 1.0, 2.0], [10.0, 4.0, 4.0, 10.0, 6.0, 10.0, 5.0, 5.0, 1.0, 4.0], [2.0, 1.0, 1.0, 2.0, 2.0, 1.0, 3.0, 1.0, 1.0, 2.0], [10.0, 5.0, 5.0, 6.0, 3.0, 10.0, 7.0, 9.0, 2.0, 4.0], [7.0, 8.0, 7.0, 2.0, 4.0, 8.0, 3.0, 8.0, 2.0, 4.0], [8.0, 2.0, 3.0, 1.0, 6.0, 3.0, 7.0, 1.0, 1.0, 4.0], [1.0, 1.0, 1.0, 1.0, 1.0, 1.0, 3.0, 1.0, 1.0, 2.0], [2.0, 1.0, 1.0, 1.0, 2.0, 1.0, 1.0, 1.0, 1.0, 2.0], [5.0, 2.0, 3.0, 4.0, 2.0, 7.0, 3.0, 6.0, 1.0, 4.0], [5.0, 2.0, 2.0, 2.0, 2.0, 1.0, 1.0, 1.0, 2.0, 2.0], [1.0, 1.0, 2.0, 2.0, 2.0, 1.0, 3.0, 1.0, 1.0, 2.0], [5.0, 1.0, 1.0, 1.0, 2.0, 1.0, 2.0, 2.0, 1.0, 2.0], [9.0, 9.0, 10.0, 3.0, 6.0, 10.0, 7.0, 10.0, 6.0, 4.0], [2.0, 1.0, 1.0, 1.0, 2.0, 1.0, 3.0, 1.0, 1.0, 2.0], [1.0, 1.0, 1.0, 1.0, 2.0, 1.0, 3.0, 1.0, 1.0, 2.0], [10.0, 4.0, 4.0, 6.0, 2.0, 10.0, 2.0, 3.0, 1.0, 4.0], [1.0, 1.0, 3.0, 1.0, 2.0, 1.0, 1.0, 1.0, 1.0, 2.0], [1.0, 5.0, 8.0, 6.0, 5.0, 8.0, 7.0, 10.0, 1.0, 4.0], [1.0, 1.0, 1.0, 1.0, 2.0, 1.0, 1.0, 1.0, 1.0, 2.0], [10.0, 5.0, 7.0, 3.0, 3.0, 7.0, 3.0, 3.0, 8.0, 4.0], [5.0, 10.0, 10.0, 8.0, 5.0, 5.0, 7.0, 10.0, 1.0, 4.0], [1.0, 1.0, 1.0, 1.0, 2.0, 1.0, 1.0, 1.0, 1.0, 2.0], [3.0, 2.0, 1.0, 1.0, 2.0, 1.0, 2.0, 2.0, 1.0, 2.0], [10.0, 5.0, 6.0, 10.0, 6.0, 10.0, 7.0, 7.0, 10.0, 4.0], [5.0, 2.0, 2.0, 4.0, 2.0, 4.0, 1.0, 1.0, 1.0, 2.0], [6.0, 3.0, 2.0, 1.0, 3.0, 4.0, 4.0, 1.0, 1.0, 4.0], [5.0, 1.0, 1.0, 2.0, 2.0, 1.0, 2.0, 1.0, 1.0, 2.0], [5.0, 10.0, 10.0, 3.0, 8.0, 1.0, 5.0, 10.0, 3.0, 4.0], [8.0, 10.0, 10.0, 8.0, 7.0, 10.0, 9.0, 7.0, 1.0, 4.0], [5.0, 1.0, 1.0, 1.0, 2.0, 1.0, 3.0, 1.0, 1.0, 2.0], [3.0, 1.0, 1.0, 1.0, 2.0, 1.0, 2.0, 1.0, 1.0, 2.0], [3.0, 1.0, 1.0, 3.0, 2.0, 1.0, 2.0, 1.0, 1.0, 2.0], [8.0, 7.0, 6.0, 4.0, 4.0, 10.0, 5.0, 1.0, 1.0, 4.0], [5.0, 1.0, 2.0, 1.0, 2.0, 1.0, 3.0, 1.0, 1.0, 2.0], [1.0, 1.0, 1.0, 1.0, 2.0, 1.0, 2.0, 1.0, 1.0, 2.0], [4.0, 2.0, 1.0, 1.0, 2.0, 1.0, 1.0, 1.0, 1.0, 2.0], [3.0, 6.0, 4.0, 10.0, 3.0, 3.0, 3.0, 4.0, 1.0, 4.0], [8.0, 10.0, 10.0, 10.0, 5.0, 10.0, 8.0, 10.0, 6.0, 4.0], [1.0, 1.0, 1.0, 1.0, 2.0, 1.0, 2.0, 1.0, 1.0, 2.0], [3.0, 1.0, 1.0, 3.0, 1.0, 1.0, 3.0, 1.0, 1.0, 2.0], [5.0, 7.0, 9.0, 8.0, 6.0, 10.0, 8.0, 10.0, 1.0, 4.0], [3.0, 3.0, 2.0, 6.0, 3.0, 3.0, 3.0, 5.0, 1.0, 2.0], [2.0, 1.0, 1.0, 1.0, 2.0, 1.0, 3.0, 1.0, 1.0, 2.0], [1.0, 1.0, 1.0, 1.0, 2.0, 1.0, 1.0, 1.0, 1.0, 2.0], [8.0, 2.0, 4.0, 1.0, 5.0, 1.0, 5.0, 4.0, 4.0, 4.0], [5.0, 1.0, 1.0, 1.0, 2.0, 1.0, 2.0, 1.0, 1.0, 2.0], [1.0, 1.0, 1.0, 1.0, 2.0, 1.0, 1.0, 1.0, 1.0, 2.0], [5.0, 10.0, 10.0, 10.0, 10.0, 10.0, 10.0, 1.0, 1.0, 4.0], [1.0, 1.0, 1.0, 1.0, 2.0, 1.0, 2.0, 1.0, 1.0, 2.0], [1.0, 1.0, 1.0, 1.0, 2.0, 1.0, 3.0, 1.0, 1.0, 2.0], [10.0, 4.0, 3.0, 10.0, 3.0, 10.0, 7.0, 1.0, 2.0, 4.0], [7.0, 4.0, 7.0, 4.0, 3.0, 7.0, 7.0, 6.0, 1.0, 4.0], [5.0, 10.0, 10.0, 10.0, 5.0, 2.0, 8.0, 5.0, 1.0, 4.0], [7.0, 5.0, 6.0, 10.0, 4.0, 10.0, 5.0, 3.0, 1.0, 4.0], [4.0, 1.0, 1.0, 1.0, 2.0, 1.0, 3.0, 1.0, 1.0, 2.0], [1.0, 1.0, 1.0, 1.0, 2.0, 1.0, 1.0, 1.0, 1.0, 2.0], [4.0, 1.0, 1.0, 1.0, 2.0, 1.0, 1.0, 1.0, 1.0, 2.0], [2.0, 1.0, 1.0, 1.0, 2.0, 1.0, 1.0, 1.0, 5.0, 2.0], [4.0, 10.0, 8.0, 5.0, 4.0, 1.0, 10.0, 1.0, 1.0, 4.0], [8.0, 7.0, 8.0, 5.0, 5.0, 10.0, 9.0, 10.0, 1.0, 4.0], [4.0, 1.0, 1.0, 1.0, 2.0, 1.0, 1.0, 1.0, 1.0, 2.0], [10.0, 4.0, 3.0, 10.0, 4.0, 10.0, 10.0, 1.0, 1.0, 4.0], [10.0, 8.0, 8.0, 2.0, 3.0, 4.0, 8.0, 7.0, 8.0, 4.0], [3.0, 1.0, 1.0, 3.0, 8.0, 1.0, 5.0, 8.0, 1.0, 2.0], [4.0, 2.0, 1.0, 1.0, 2.0, 2.0, 3.0, 1.0, 1.0, 2.0], [1.0, 1.0, 1.0, 1.0, 2.0, 1.0, 3.0, 1.0, 1.0, 2.0], [10.0, 10.0, 10.0, 3.0, 10.0, 10.0, 9.0, 10.0, 1.0, 4.0], [4.0, 8.0, 6.0, 4.0, 3.0, 4.0, 10.0, 6.0, 1.0, 4.0], [7.0, 9.0, 4.0, 10.0, 10.0, 3.0, 5.0, 3.0, 3.0, 4.0], [5.0, 1.0, 1.0, 6.0, 3.0, 1.0, 2.0, 1.0, 1.0, 2.0], [5.0, 1.0, 1.0, 1.0, 2.0, 1.0, 1.0, 1.0, 1.0, 2.0], [3.0, 1.0, 1.0, 1.0, 2.0, 1.0, 2.0, 1.0, 1.0, 2.0], [5.0, 1.0, 1.0, 1.0, 2.0, 1.0, 3.0, 1.0, 1.0, 2.0], [3.0, 10.0, 7.0, 8.0, 5.0, 8.0, 7.0, 4.0, 1.0, 4.0], [4.0, 1.0, 1.0, 1.0, 1.0, 1.0, 2.0, 1.0, 1.0, 2.0], [1.0, 1.0, 1.0, 1.0, 2.0, 4.0, 1.0, 1.0, 1.0, 2.0], [5.0, 3.0, 4.0, 1.0, 8.0, 10.0, 4.0, 9.0, 1.0, 4.0], [3.0, 5.0, 7.0, 8.0, 8.0, 9.0, 7.0, 10.0, 7.0, 4.0], [5.0, 2.0, 1.0, 1.0, 2.0, 1.0, 1.0, 1.0, 1.0, 2.0], [3.0, 1.0, 1.0, 1.0, 1.0, 1.0, 2.0, 1.0, 1.0, 2.0], [2.0, 3.0, 2.0, 2.0, 2.0, 2.0, 3.0, 1.0, 1.0, 2.0], [3.0, 1.0, 4.0, 1.0, 2.0, -9999.0, 3.0, 1.0, 1.0, 2.0], [1.0, 1.0, 1.0, 1.0, 2.0, 1.0, 3.0, 1.0, 1.0, 2.0], [10.0, 7.0, 7.0, 3.0, 8.0, 5.0, 7.0, 4.0, 3.0, 4.0], [8.0, 10.0, 10.0, 8.0, 6.0, 9.0, 3.0, 10.0, 10.0, 4.0], [3.0, 1.0, 1.0, 1.0, 2.0, 1.0, 2.0, 1.0, 1.0, 2.0], [8.0, 10.0, 5.0, 3.0, 8.0, 4.0, 4.0, 10.0, 3.0, 4.0], [2.0, 1.0, 1.0, 1.0, 2.0, 1.0, 1.0, 1.0, 1.0, 2.0], [1.0, 1.0, 3.0, 1.0, 2.0, 1.0, 1.0, 1.0, 1.0, 2.0], [6.0, 1.0, 1.0, 1.0, 2.0, 1.0, 3.0, 1.0, 1.0, 2.0], [4.0, 1.0, 2.0, 1.0, 2.0, 1.0, 1.0, 1.0, 1.0, 2.0], [1.0, 1.0, 1.0, 1.0, 2.0, 1.0, 1.0, 1.0, 1.0, 2.0], [6.0, 2.0, 3.0, 1.0, 2.0, 1.0, 1.0, 1.0, 1.0, 2.0], [4.0, 1.0, 1.0, 1.0, 2.0, 1.0, 2.0, 1.0, 1.0, 2.0], [1.0, 1.0, 1.0, 1.0, 2.0, 1.0, 2.0, 3.0, 1.0, 2.0], [5.0, 1.0, 1.0, 2.0, 1.0, 1.0, 2.0, 1.0, 1.0, 2.0], [5.0, 5.0, 5.0, 6.0, 3.0, 10.0, 3.0, 1.0, 1.0, 4.0], [1.0, 1.0, 1.0, 1.0, 1.0, 1.0, 3.0, 1.0, 1.0, 2.0], [6.0, 8.0, 8.0, 1.0, 3.0, 4.0, 3.0, 7.0, 1.0, 2.0], [1.0, 2.0, 2.0, 1.0, 2.0, 1.0, 2.0, 1.0, 1.0, 2.0], [4.0, 1.0, 1.0, 1.0, 2.0, 2.0, 3.0, 2.0, 1.0, 2.0], [3.0, 1.0, 2.0, 2.0, 2.0, 1.0, 1.0, 1.0, 1.0, 2.0], [2.0, 5.0, 3.0, 3.0, 6.0, 7.0, 7.0, 5.0, 1.0, 4.0], [1.0, 1.0, 1.0, 1.0, 2.0, 1.0, 2.0, 1.0, 1.0, 2.0], [3.0, 1.0, 1.0, 1.0, 2.0, 1.0, 1.0, 1.0, 1.0, 2.0], [10.0, 3.0, 4.0, 5.0, 3.0, 10.0, 4.0, 1.0, 1.0, 4.0], [5.0, 3.0, 3.0, 2.0, 3.0, 1.0, 3.0, 1.0, 1.0, 2.0], [4.0, 2.0, 4.0, 3.0, 2.0, 2.0, 2.0, 1.0, 1.0, 2.0], [1.0, 1.0, 1.0, 3.0, 2.0, 1.0, 1.0, 1.0, 1.0, 2.0], [5.0, 10.0, 10.0, 10.0, 4.0, 10.0, 5.0, 6.0, 3.0, 4.0], [10.0, 3.0, 5.0, 4.0, 3.0, 7.0, 3.0, 5.0, 3.0, 4.0], [1.0, 1.0, 1.0, 1.0, 10.0, 1.0, 1.0, 1.0, 1.0, 2.0], [7.0, 4.0, 4.0, 3.0, 4.0, 10.0, 6.0, 9.0, 1.0, 4.0], [6.0, 10.0, 10.0, 2.0, 8.0, 10.0, 7.0, 3.0, 3.0, 4.0], [1.0, 3.0, 3.0, 2.0, 2.0, 1.0, 7.0, 2.0, 1.0, 2.0], [1.0, 1.0, 1.0, 1.0, 1.0, 1.0, 2.0, 1.0, 1.0, 2.0], [5.0, 3.0, 2.0, 4.0, 2.0, 1.0, 1.0, 1.0, 1.0, 2.0], [8.0, 4.0, 4.0, 1.0, 2.0, 9.0, 3.0, 3.0, 1.0, 4.0], [6.0, 3.0, 3.0, 5.0, 3.0, 10.0, 3.0, 5.0, 3.0, 2.0], [3.0, 1.0, 1.0, 1.0, 2.0, 1.0, 3.0, 1.0, 1.0, 2.0], [5.0, 1.0, 1.0, 1.0, 2.0, 1.0, 1.0, 1.0, 1.0, 2.0], [10.0, 4.0, 6.0, 4.0, 5.0, 10.0, 7.0, 1.0, 1.0, 4.0]]\n"
     ]
    }
   ],
   "source": [
    "df=pd.read_csv('breast-cancer-wisconsin.txt',error_bad_lines=False)\n",
    "#print(df.head())\n",
    "df.replace('?',-9999, inplace=True) # bad data make seperting from other data\n",
    "df.drop(['id'],1,inplace=True) # remove id, beacuse we want to decreses volume of datas and we dont need a id.\n",
    "\n",
    "full_data = df.astype(float).values.tolist() \n",
    "# convert the data to a list of lists Note that we're explicitly converting the entire dataframe to float. \n",
    "\n",
    "random.shuffle(full_data)\n"
   ]
  },
  {
   "cell_type": "code",
   "execution_count": 97,
   "metadata": {},
   "outputs": [
    {
     "name": "stdout",
     "output_type": "stream",
     "text": [
      "Accuracy =  0.9568345323741008\n"
     ]
    }
   ],
   "source": [
    "test_size = 0.20\n",
    "train_set = {2:[],4:[]}\n",
    "test_set = {2:[],4:[]}\n",
    "train_data = full_data[:-int(test_size*len(full_data))]\n",
    "test_data = full_data[-int(test_size*len(full_data)):]\n",
    "\n",
    "for i in train_data:\n",
    "    train_set[i[-1]].append(i[:-1]) \n",
    "    \n",
    "for i in test_data:\n",
    "    test_set[i[-1]].append(i[:-1]) \n",
    "    \n",
    "correct = 0\n",
    "total = 0 \n",
    "\n",
    "for group in test_set:\n",
    "    for data in test_set[group]:\n",
    "        vote = K_NEARST_NEIGHBORS(train_set, data, k=5)\n",
    "        if group == vote:\n",
    "            correct += 1\n",
    "        total += 1\n",
    "print('Accuracy = ', correct/total)\n",
    "\n",
    "            "
   ]
  },
  {
   "cell_type": "markdown",
   "metadata": {},
   "source": [
    "# P19"
   ]
  },
  {
   "cell_type": "markdown",
   "metadata": {},
   "source": [
    "we talking about k accuracy and perdication.\n",
    "if incersies the k , accuracy appear more worse"
   ]
  },
  {
   "cell_type": "code",
   "execution_count": 102,
   "metadata": {},
   "outputs": [
    {
     "name": "stdout",
     "output_type": "stream",
     "text": [
      "confidence =  1.0\n",
      "confidence =  1.0\n",
      "confidence =  1.0\n",
      "confidence =  1.0\n",
      "confidence =  1.0\n",
      "confidence =  0.8\n",
      "confidence =  0.8\n",
      "confidence =  0.8\n",
      "confidence =  1.0\n",
      "Accuracy: 0.967741935483871\n"
     ]
    }
   ],
   "source": [
    "import numpy as np\n",
    "from math import sqrt\n",
    "import warnings\n",
    "from collections import Counter\n",
    "import pandas as pd\n",
    "import random\n",
    "\n",
    "def k_nearest_neighbors(data, predict, k=3):\n",
    "    if len(data) >= k:\n",
    "        warnings.warn('K is set to a value less than total voting groups!')\n",
    "    distances = []\n",
    "    for group in data:\n",
    "        for features in data[group]:\n",
    "            euclidean_distance = np.linalg.norm(np.array(features)-np.array(predict))\n",
    "            distances.append([euclidean_distance, group])\n",
    "\n",
    "    votes = [i[1] for i in sorted(distances)[:k]]\n",
    "    vote_result = Counter(votes).most_common(1)[0][0]\n",
    "    confidence = Counter(votes).most_common(1)[0][1] / k\n",
    "  \n",
    "    return vote_result, confidence\n",
    "\n",
    "\n",
    "df = pd.read_csv(\"breast-cancer-wisconsin.txt\")\n",
    "df.replace('?',-99999, inplace=True)\n",
    "df.drop(['id'], 1, inplace=True)\n",
    "full_data = df.astype(float).values.tolist()\n",
    "random.shuffle(full_data)\n",
    "\n",
    "test_size = 0.4\n",
    "train_set = {2:[], 4:[]}\n",
    "test_set = {2:[], 4:[]}\n",
    "train_data = full_data[:-int(test_size*len(full_data))]\n",
    "test_data = full_data[-int(test_size*len(full_data)):]\n",
    "\n",
    "for i in train_data:\n",
    "    train_set[i[-1]].append(i[:-1])\n",
    "    \n",
    "for i in test_data:\n",
    "    test_set[i[-1]].append(i[:-1])\n",
    "\n",
    "correct = 0\n",
    "total = 0\n",
    "\n",
    "for group in test_set:\n",
    "    for data in test_set[group]:\n",
    "        vote,confidence = k_nearest_neighbors(train_set, data, k=5)\n",
    "        if group == vote:\n",
    "            correct += 1\n",
    "        else:\n",
    "            print('confidence = ',confidence)\n",
    "        total += 1\n",
    "print('Accuracy:', correct/total)"
   ]
  },
  {
   "cell_type": "code",
   "execution_count": null,
   "metadata": {},
   "outputs": [],
   "source": []
  }
 ],
 "metadata": {
  "kernelspec": {
   "display_name": "Python 3",
   "language": "python",
   "name": "python3"
  },
  "language_info": {
   "codemirror_mode": {
    "name": "ipython",
    "version": 3
   },
   "file_extension": ".py",
   "mimetype": "text/x-python",
   "name": "python",
   "nbconvert_exporter": "python",
   "pygments_lexer": "ipython3",
   "version": "3.6.5"
  }
 },
 "nbformat": 4,
 "nbformat_minor": 2
}
